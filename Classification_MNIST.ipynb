{
  "nbformat": 4,
  "nbformat_minor": 0,
  "metadata": {
    "colab": {
      "provenance": []
    },
    "kernelspec": {
      "name": "python3",
      "display_name": "Python 3"
    },
    "language_info": {
      "name": "python"
    }
  },
  "cells": [
    {
      "cell_type": "markdown",
      "source": [
        "MNIST database of Handwritten digits."
      ],
      "metadata": {
        "id": "5cDSI3w-QRnq"
      }
    },
    {
      "cell_type": "code",
      "source": [
        "%tensorflow_version 2.x\n",
        "import tensorflow\n",
        "tensorflow.__version__"
      ],
      "metadata": {
        "colab": {
          "base_uri": "https://localhost:8080/",
          "height": 52
        },
        "id": "gzkfUQnrQSZ3",
        "outputId": "361573cd-772b-4caf-8655-428efaaf9cd4"
      },
      "execution_count": 1,
      "outputs": [
        {
          "output_type": "stream",
          "name": "stdout",
          "text": [
            "Colab only includes TensorFlow 2.x; %tensorflow_version has no effect.\n"
          ]
        },
        {
          "output_type": "execute_result",
          "data": {
            "text/plain": [
              "'2.12.0'"
            ],
            "application/vnd.google.colaboratory.intrinsic+json": {
              "type": "string"
            }
          },
          "metadata": {},
          "execution_count": 1
        }
      ]
    },
    {
      "cell_type": "code",
      "source": [
        "#intialize random number generator\n",
        "import random\n",
        "random.seed(0)\n",
        "\n",
        "\n",
        "#Ignore warnings\n",
        "\n",
        "import warnings\n",
        "warnings.filterwarnings(\"ignore\")"
      ],
      "metadata": {
        "id": "U03FQ9i-Qgq2"
      },
      "execution_count": 2,
      "outputs": []
    },
    {
      "cell_type": "markdown",
      "source": [
        "Import Dataset"
      ],
      "metadata": {
        "id": "sdKR8LHBRDtx"
      }
    },
    {
      "cell_type": "code",
      "source": [
        "(X_train,Y_train), (X_test,Y_test) = tensorflow.keras.datasets.mnist.load_data()"
      ],
      "metadata": {
        "id": "bjYnBnPIQ-eA"
      },
      "execution_count": 3,
      "outputs": []
    },
    {
      "cell_type": "markdown",
      "source": [
        "Printing Shape of datasets"
      ],
      "metadata": {
        "id": "BY0JskSVRb80"
      }
    },
    {
      "cell_type": "code",
      "source": [
        "print(Y_train.shape)\n",
        "print('First 5 examples :', Y_train[0:5])"
      ],
      "metadata": {
        "colab": {
          "base_uri": "https://localhost:8080/"
        },
        "id": "uz0RV-eKRU7D",
        "outputId": "cafa22cf-5aba-4a2e-9661-5aebaf3d09ae"
      },
      "execution_count": 4,
      "outputs": [
        {
          "output_type": "stream",
          "name": "stdout",
          "text": [
            "(60000,)\n",
            "First 5 examples : [5 0 4 1 9]\n"
          ]
        }
      ]
    },
    {
      "cell_type": "markdown",
      "source": [
        "Visualize using matplotlib"
      ],
      "metadata": {
        "id": "aURH0Tp1RwpC"
      }
    },
    {
      "cell_type": "code",
      "source": [
        "import matplotlib.pyplot as plt\n",
        "\n",
        "%matplotlib inline\n",
        "\n",
        "print(\"Label : {}\".format(Y_train[8000]))\n",
        "plt.imshow(X_train[8000], cmap = 'gray')"
      ],
      "metadata": {
        "colab": {
          "base_uri": "https://localhost:8080/",
          "height": 465
        },
        "id": "6Xceo514RpGq",
        "outputId": "cbf4aab6-e7a5-4f18-c4e9-ebc1f28e589b"
      },
      "execution_count": 5,
      "outputs": [
        {
          "output_type": "stream",
          "name": "stdout",
          "text": [
            "Label : 0\n"
          ]
        },
        {
          "output_type": "execute_result",
          "data": {
            "text/plain": [
              "<matplotlib.image.AxesImage at 0x7971be541450>"
            ]
          },
          "metadata": {},
          "execution_count": 5
        },
        {
          "output_type": "display_data",
          "data": {
            "text/plain": [
              "<Figure size 640x480 with 1 Axes>"
            ],
            "image/png": "[encoded data removed]"
          },
          "metadata": {}
        }
      ]
    },
    {
      "cell_type": "code",
      "source": [
        "print(\"Label : {}\".format(Y_train[9000]))\n",
        "plt.imshow(X_train[9000], cmap = 'gray')"
      ],
      "metadata": {
        "colab": {
          "base_uri": "https://localhost:8080/",
          "height": 465
        },
        "id": "2t0sM9P0SUe0",
        "outputId": "2d4e39c8-8a32-4147-e5e0-d658af578ed8"
      },
      "execution_count": 6,
      "outputs": [
        {
          "output_type": "stream",
          "name": "stdout",
          "text": [
            "Label : 6\n"
          ]
        },
        {
          "output_type": "execute_result",
          "data": {
            "text/plain": [
              "<matplotlib.image.AxesImage at 0x7971bb035cf0>"
            ]
          },
          "metadata": {},
          "execution_count": 6
        },
        {
          "output_type": "display_data",
          "data": {
            "text/plain": [
              "<Figure size 640x480 with 1 Axes>"
            ],
            "image/png": "[encoded data removed]"
          },
          "metadata": {}
        }
      ]
    },
    {
      "cell_type": "code",
      "source": [
        "#printing shape of data\n",
        "\n",
        "print(X_train.shape)\n",
        "print(Y_train.shape)\n",
        "print(X_test.shape)\n",
        "print(Y_test.shape)"
      ],
      "metadata": {
        "colab": {
          "base_uri": "https://localhost:8080/"
        },
        "id": "3PpD-PNwSem-",
        "outputId": "ad9b9ac5-42ee-4cc0-c3e8-fbf68e0490a4"
      },
      "execution_count": 7,
      "outputs": [
        {
          "output_type": "stream",
          "name": "stdout",
          "text": [
            "(60000, 28, 28)\n",
            "(60000,)\n",
            "(10000, 28, 28)\n",
            "(10000,)\n"
          ]
        }
      ]
    },
    {
      "cell_type": "markdown",
      "source": [
        "One hot encode the class vector\n",
        "\n",
        "convert class vectors (integers) to binary class matrix,\n",
        "\n",
        "\n",
        "convert y_train and y_test,\n",
        "number of classes: 10,\n",
        "\n",
        "we are doing this to use categorical_crossentropy as loss\n",
        "\n",
        "\n"
      ],
      "metadata": {
        "id": "VvU13t1USzSu"
      }
    },
    {
      "cell_type": "code",
      "source": [
        "from tensorflow.keras.utils import to_categorical\n",
        "\n",
        "print(\"Value before encoding :\", Y_train[0])\n",
        "\n",
        "Y_train = to_categorical(Y_train, num_classes = 10)\n",
        "Y_test = to_categorical(Y_test , num_classes = 10)\n",
        "\n",
        "print(\"Shape of Y_train : \", Y_train.shape)\n",
        "print(\"One hot encoding value of y_train :\",Y_train[0])"
      ],
      "metadata": {
        "colab": {
          "base_uri": "https://localhost:8080/"
        },
        "id": "FPbfTXylSuTz",
        "outputId": "40d644af-54f9-4e72-dc1f-449074f2d13b"
      },
      "execution_count": 8,
      "outputs": [
        {
          "output_type": "stream",
          "name": "stdout",
          "text": [
            "Value before encoding : 5\n",
            "Shape of Y_train :  (60000, 10)\n",
            "One hot encoding value of y_train : [0. 0. 0. 0. 0. 1. 0. 0. 0. 0.]\n"
          ]
        }
      ]
    },
    {
      "cell_type": "code",
      "source": [
        "#Initialize the Sequential model\n",
        "\n",
        "model = tensorflow.keras.models.Sequential()\n",
        "\n",
        "#Reshape data from 2d to 1d) --> 28x28 to 784\n",
        "\n",
        "\n",
        "model.add(tensorflow.keras.layers.Reshape((784,), input_shape=(28,28)))\n",
        "\n",
        "#Normalize the data\n",
        "\n",
        "model.add(tensorflow.keras.layers.BatchNormalization())"
      ],
      "metadata": {
        "id": "V0kFPzy8T3a9"
      },
      "execution_count": 9,
      "outputs": []
    },
    {
      "cell_type": "code",
      "source": [
        "#apply activation function\n",
        "\n",
        "#HIdden layer\n",
        "\n",
        "model.add(tensorflow.keras.layers.Dense(200, activation= 'relu', name = 'Layer_1'))\n",
        "model.add(tensorflow.keras.layers.Dense(100, activation= 'relu' , name = 'Layer2'))\n",
        "\n",
        "#Dropout LAyer\n",
        "\n",
        "model.add(tensorflow.keras.layers.Dropout(0.5))\n",
        "\n",
        "#Hidden Layer\n",
        "\n",
        "model.add(tensorflow.keras.layers.Dense(60,activation= \"relu\", name = \"Layer_3\"))\n",
        "\n",
        "model.add(tensorflow.keras.layers.Dense(30,activation= \"relu\", name = \"Layer_4\"))\n",
        "\n",
        "#Dropout Layer\n",
        "\n",
        "model.add(tensorflow.keras.layers.Dropout(0.3))\n",
        "\n"
      ],
      "metadata": {
        "id": "S9KSSFnyWqAV"
      },
      "execution_count": 10,
      "outputs": []
    },
    {
      "cell_type": "code",
      "source": [
        "#output layer\n",
        "\n",
        "model.add(tensorflow.keras.layers.Dense(10,activation=\"softmax\", name = \"Output_layer\"))\n"
      ],
      "metadata": {
        "id": "ZqeqZRhyX7yY"
      },
      "execution_count": 11,
      "outputs": []
    },
    {
      "cell_type": "code",
      "source": [
        "model.compile(optimizer = 'adam', loss = 'categorical_crossentropy', metrics = ['accuracy'])"
      ],
      "metadata": {
        "id": "eGJaYt-oYdZ5"
      },
      "execution_count": 14,
      "outputs": []
    },
    {
      "cell_type": "code",
      "source": [
        "model.summary()"
      ],
      "metadata": {
        "colab": {
          "base_uri": "https://localhost:8080/"
        },
        "id": "e4eeGc5fYvl_",
        "outputId": "eea89c27-62bb-4cdc-b9e1-62e5a04f4b9c"
      },
      "execution_count": 15,
      "outputs": [
        {
          "output_type": "stream",
          "name": "stdout",
          "text": [
            "Model: \"sequential\"\n",
            "_________________________________________________________________\n",
            " Layer (type)                Output Shape              Param #   \n",
            "=================================================================\n",
            " reshape (Reshape)           (None, 784)               0         \n",
            "                                                                 \n",
            " batch_normalization (BatchN  (None, 784)              3136      \n",
            " ormalization)                                                   \n",
            "                                                                 \n",
            " Layer_1 (Dense)             (None, 200)               157000    \n",
            "                                                                 \n",
            " Layer2 (Dense)              (None, 100)               20100     \n",
            "                                                                 \n",
            " dropout (Dropout)           (None, 100)               0         \n",
            "                                                                 \n",
            " Layer_3 (Dense)             (None, 60)                6060      \n",
            "                                                                 \n",
            " Layer_4 (Dense)             (None, 30)                1830      \n",
            "                                                                 \n",
            " dropout_1 (Dropout)         (None, 30)                0         \n",
            "                                                                 \n",
            " Output_layer (Dense)        (None, 10)                310       \n",
            "                                                                 \n",
            "=================================================================\n",
            "Total params: 188,436\n",
            "Trainable params: 186,868\n",
            "Non-trainable params: 1,568\n",
            "_________________________________________________________________\n"
          ]
        }
      ]
    },
    {
      "cell_type": "code",
      "source": [
        "model.fit(X_train,Y_train, validation_data = (X_test, Y_test), epochs = 30, batch_size = 32)"
      ],
      "metadata": {
        "colab": {
          "base_uri": "https://localhost:8080/"
        },
        "id": "1vOWk7VBY0H6",
        "outputId": "f55e7d3a-e55a-4ecb-ebd9-55908e191d1b"
      },
      "execution_count": 16,
      "outputs": [
        {
          "output_type": "stream",
          "name": "stdout",
          "text": [
            "Epoch 1/30\n",
            "1875/1875 [==============================] - 18s 8ms/step - loss: 0.5349 - accuracy: 0.8453 - val_loss: 0.2481 - val_accuracy: 0.9501\n",
            "Epoch 2/30\n",
            "1875/1875 [==============================] - 16s 9ms/step - loss: 0.2587 - accuracy: 0.9344 - val_loss: 0.1802 - val_accuracy: 0.9622\n",
            "Epoch 3/30\n",
            "1875/1875 [==============================] - 16s 8ms/step - loss: 0.1975 - accuracy: 0.9502 - val_loss: 0.1819 - val_accuracy: 0.9668\n",
            "Epoch 4/30\n",
            "1875/1875 [==============================] - 16s 9ms/step - loss: 0.1648 - accuracy: 0.9584 - val_loss: 0.2937 - val_accuracy: 0.9654\n",
            "Epoch 5/30\n",
            "1875/1875 [==============================] - 17s 9ms/step - loss: 0.1421 - accuracy: 0.9637 - val_loss: 0.2333 - val_accuracy: 0.9694\n",
            "Epoch 6/30\n",
            "1875/1875 [==============================] - 17s 9ms/step - loss: 0.1239 - accuracy: 0.9686 - val_loss: 0.1829 - val_accuracy: 0.9734\n",
            "Epoch 7/30\n",
            "1875/1875 [==============================] - 17s 9ms/step - loss: 0.1119 - accuracy: 0.9720 - val_loss: 0.2118 - val_accuracy: 0.9703\n",
            "Epoch 8/30\n",
            "1875/1875 [==============================] - 16s 8ms/step - loss: 0.1016 - accuracy: 0.9744 - val_loss: 0.1896 - val_accuracy: 0.9716\n",
            "Epoch 9/30\n",
            "1875/1875 [==============================] - 15s 8ms/step - loss: 0.0972 - accuracy: 0.9755 - val_loss: 0.2484 - val_accuracy: 0.9711\n",
            "Epoch 10/30\n",
            "1875/1875 [==============================] - 16s 8ms/step - loss: 0.0841 - accuracy: 0.9789 - val_loss: 0.1704 - val_accuracy: 0.9736\n",
            "Epoch 11/30\n",
            "1875/1875 [==============================] - 15s 8ms/step - loss: 0.0805 - accuracy: 0.9793 - val_loss: 0.1977 - val_accuracy: 0.9732\n",
            "Epoch 12/30\n",
            "1875/1875 [==============================] - 16s 9ms/step - loss: 0.0744 - accuracy: 0.9808 - val_loss: 0.2018 - val_accuracy: 0.9739\n",
            "Epoch 13/30\n",
            "1875/1875 [==============================] - 16s 8ms/step - loss: 0.0743 - accuracy: 0.9821 - val_loss: 0.2381 - val_accuracy: 0.9709\n",
            "Epoch 14/30\n",
            "1875/1875 [==============================] - 16s 8ms/step - loss: 0.0692 - accuracy: 0.9829 - val_loss: 0.2256 - val_accuracy: 0.9717\n",
            "Epoch 15/30\n",
            "1875/1875 [==============================] - 15s 8ms/step - loss: 0.0650 - accuracy: 0.9833 - val_loss: 0.1669 - val_accuracy: 0.9740\n",
            "Epoch 16/30\n",
            "1875/1875 [==============================] - 16s 9ms/step - loss: 0.0598 - accuracy: 0.9843 - val_loss: 0.2124 - val_accuracy: 0.9707\n",
            "Epoch 17/30\n",
            "1875/1875 [==============================] - 15s 8ms/step - loss: 0.0590 - accuracy: 0.9842 - val_loss: 0.1744 - val_accuracy: 0.9733\n",
            "Epoch 18/30\n",
            "1875/1875 [==============================] - 15s 8ms/step - loss: 0.0567 - accuracy: 0.9854 - val_loss: 0.2085 - val_accuracy: 0.9727\n",
            "Epoch 19/30\n",
            "1875/1875 [==============================] - 15s 8ms/step - loss: 0.0570 - accuracy: 0.9859 - val_loss: 0.1798 - val_accuracy: 0.9721\n",
            "Epoch 20/30\n",
            "1875/1875 [==============================] - 15s 8ms/step - loss: 0.0543 - accuracy: 0.9861 - val_loss: 0.2551 - val_accuracy: 0.9701\n",
            "Epoch 21/30\n",
            "1875/1875 [==============================] - 16s 9ms/step - loss: 0.0455 - accuracy: 0.9883 - val_loss: 0.2498 - val_accuracy: 0.9702\n",
            "Epoch 22/30\n",
            "1875/1875 [==============================] - 16s 8ms/step - loss: 0.0492 - accuracy: 0.9873 - val_loss: 0.1866 - val_accuracy: 0.9721\n",
            "Epoch 23/30\n",
            "1875/1875 [==============================] - 15s 8ms/step - loss: 0.0510 - accuracy: 0.9879 - val_loss: 0.2305 - val_accuracy: 0.9724\n",
            "Epoch 24/30\n",
            "1875/1875 [==============================] - 15s 8ms/step - loss: 0.0447 - accuracy: 0.9887 - val_loss: 0.2399 - val_accuracy: 0.9735\n",
            "Epoch 25/30\n",
            "1875/1875 [==============================] - 16s 8ms/step - loss: 0.0482 - accuracy: 0.9879 - val_loss: 0.2038 - val_accuracy: 0.9740\n",
            "Epoch 26/30\n",
            "1875/1875 [==============================] - 16s 9ms/step - loss: 0.0451 - accuracy: 0.9887 - val_loss: 0.2043 - val_accuracy: 0.9714\n",
            "Epoch 27/30\n",
            "1875/1875 [==============================] - 16s 9ms/step - loss: 0.0457 - accuracy: 0.9889 - val_loss: 0.2431 - val_accuracy: 0.9735\n",
            "Epoch 28/30\n",
            "1875/1875 [==============================] - 16s 8ms/step - loss: 0.0395 - accuracy: 0.9897 - val_loss: 0.2680 - val_accuracy: 0.9749\n",
            "Epoch 29/30\n",
            "1875/1875 [==============================] - 15s 8ms/step - loss: 0.0430 - accuracy: 0.9892 - val_loss: 0.2472 - val_accuracy: 0.9742\n",
            "Epoch 30/30\n",
            "1875/1875 [==============================] - 16s 9ms/step - loss: 0.0420 - accuracy: 0.9898 - val_loss: 0.2512 - val_accuracy: 0.9725\n"
          ]
        },
        {
          "output_type": "execute_result",
          "data": {
            "text/plain": [
              "<keras.callbacks.History at 0x7971a36627d0>"
            ]
          },
          "metadata": {},
          "execution_count": 16
        }
      ]
    },
    {
      "cell_type": "code",
      "source": [
        "model.evaluate(X_test, Y_test)"
      ],
      "metadata": {
        "colab": {
          "base_uri": "https://localhost:8080/"
        },
        "id": "CZMr1YYNZGXU",
        "outputId": "e83ba9d9-c1a1-4209-82e9-0d1cb90eee0b"
      },
      "execution_count": 17,
      "outputs": [
        {
          "output_type": "stream",
          "name": "stdout",
          "text": [
            "313/313 [==============================] - 2s 6ms/step - loss: 0.2512 - accuracy: 0.9725\n"
          ]
        },
        {
          "output_type": "execute_result",
          "data": {
            "text/plain": [
              "[0.2512458860874176, 0.9725000262260437]"
            ]
          },
          "metadata": {},
          "execution_count": 17
        }
      ]
    },
    {
      "cell_type": "code",
      "source": [],
      "metadata": {
        "id": "4cPU5hBbbNGU"
      },
      "execution_count": null,
      "outputs": []
    }
  ]
}